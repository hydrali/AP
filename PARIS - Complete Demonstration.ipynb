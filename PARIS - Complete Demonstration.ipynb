{
 "cells": [
  {
   "cell_type": "code",
   "execution_count": null,
   "metadata": {},
   "outputs": [],
   "source": [
    "import warnings\n",
    "import time\n",
    "import pandas as pd\n",
    "import numpy as np\n",
    "warnings.simplefilter('ignore')"
   ]
  },
  {
   "cell_type": "markdown",
   "metadata": {},
   "source": [
    "# Data_Base"
   ]
  },
  {
   "cell_type": "markdown",
   "metadata": {},
   "source": [
    "### Paris has two main databases one recording Price and volume info of all frequencies, another recording all historical trading signals of all frequencies and all historical trades conducted"
   ]
  },
  {
   "cell_type": "code",
   "execution_count": null,
   "metadata": {},
   "outputs": [],
   "source": [
    "Integrity = pd.read_csv('Data_Integrity.csv', index_col = 0)\n",
    "Missing_Days = np.load('missing.npy', allow_pickle= True)\n",
    "Gap_Dict = Missing_Days[()]\n",
    "Gap_Dict['Daily']['GBPUSD']\n",
    "Assets = pd.unique(Integrity.index)"
   ]
  },
  {
   "cell_type": "code",
   "execution_count": null,
   "metadata": {
    "scrolled": true
   },
   "outputs": [],
   "source": [
    "Assets"
   ]
  },
  {
   "cell_type": "code",
   "execution_count": null,
   "metadata": {},
   "outputs": [],
   "source": []
  },
  {
   "cell_type": "code",
   "execution_count": null,
   "metadata": {},
   "outputs": [],
   "source": []
  },
  {
   "cell_type": "markdown",
   "metadata": {},
   "source": [
    "# Signal_Generator"
   ]
  },
  {
   "cell_type": "markdown",
   "metadata": {},
   "source": [
    "### An application that generates all the trading signals, so far it contains 5 Technical Signals (MACD, RSI, BB, EMA and Acc_Dist) and 5 Machine Learning Signals (LASSO, Elastic Net, Neural Network, Support Vector and Random Forest). Signal Generator takes in price and generate either individual signals or all the signal at once by calling Generate_All_Signals(). \n",
    "### It is incorporated in the Back Testing Application and Live Trading Application, but it can be used individually too"
   ]
  },
  {
   "cell_type": "code",
   "execution_count": null,
   "metadata": {},
   "outputs": [],
   "source": [
    "%run Database_Interactions.py\n",
    "DB_Worker = DB_Operator('MT4_Database')\n",
    "Frequencies = ['Minutely', 'Minutes_5', 'Minutes_15', 'Minutes_30', 'Hourly', 'Hours_4', 'Daily' , 'Weekly']\n",
    "Refit = {'Minutely': 500, 'Minutes_5': 100, 'Minutes_15': 160, 'Minutes_30': 80, \n",
    "         'Hourly': 80, 'Hours_4': 80, 'Daily': 100, 'Weekly': 20}\n",
    "#For Demonstration used one example and turned the refit to be infrequent\n",
    "frequency = 'Daily'\n",
    "Assets = ['GBPUSD']"
   ]
  },
  {
   "cell_type": "code",
   "execution_count": null,
   "metadata": {
    "scrolled": true
   },
   "outputs": [],
   "source": [
    "%run Signal_Pool.py\n",
    "Collection = pd.DataFrame()\n",
    "All = DB_Worker.read_entire_table(frequency)\n",
    "All = All.set_index(pd.to_datetime(All['open_time'])).drop('open_time', axis = 1)\n",
    "for asset in Assets:\n",
    "    DataFrame = All[All['Asset'] == asset]\n",
    "    Signal_Advisor = Generate_Signal(DataFrame)\n",
    "    Signal = Signal_Advisor.Generate_All_Signals(All, Refit[frequency])\n",
    "    Signal['Asset'] = asset\n",
    "    Collection = pd.concat([Collection, Signal])"
   ]
  },
  {
   "cell_type": "code",
   "execution_count": null,
   "metadata": {
    "scrolled": true
   },
   "outputs": [],
   "source": [
    "Collection.loc['2018']"
   ]
  },
  {
   "cell_type": "code",
   "execution_count": null,
   "metadata": {},
   "outputs": [],
   "source": []
  },
  {
   "cell_type": "markdown",
   "metadata": {},
   "source": [
    "# Back_Testor"
   ]
  },
  {
   "cell_type": "markdown",
   "metadata": {},
   "source": [
    "### Back_Testor is like the traffic center that connects with every other components. We specify what asset we want to trade on and how frequent we want our strategy to be as well as what signal we want to use. Back_Testor will then provide the performance of this strategy. It then uses the Risk Advisor and Performance Advisor to assess how risky and how good its performance was. When we're really happy about a strategy, we can choose to go live as the Back_Testor is connected with the Live Trading Assistant.\n",
    "\n",
    "### Main Flexibilities include: 1. Signal importance, can specify Primary Signal against Ordinary Signals, can also specify how many signals need to agree before we take trades. 2. Weighting method, can choose to use equal weight (value), equal volatility weight, or other creative methods. 3. Exposure Control, allows cap on Portfolio and Individual levels Value and Volatility. 4. Time, can look at subset or full history"
   ]
  },
  {
   "cell_type": "code",
   "execution_count": null,
   "metadata": {},
   "outputs": [],
   "source": [
    "Assets = ['BCOUSD', 'BTCUSD', 'CADJPY', 'WHEATUSD']\n",
    "Frequency = 'Daily'\n",
    "start = None\n",
    "end = None\n",
    "Signal_use = ['MACD', 'RSI', 'Acc_Dis']"
   ]
  },
  {
   "cell_type": "code",
   "execution_count": null,
   "metadata": {
    "scrolled": true
   },
   "outputs": [],
   "source": [
    "%run Back_Testor.py\n",
    "Begining = time.time()\n",
    "Portfolio = Backtestor(Assets, Frequency, start= start, end= end, Signal_use = Signal_use)\n",
    "\n",
    "Portfolio.Set_Risk_Cap(Value_Cap = 100, Indiv_Value_Cap = 20, Volatility_Cap = 10, Indiv_Vol_Cap = 3)\n",
    "Portfolio.Set_Signal_Rule(Primary = 'Acc_Dis', Agree = 1)\n",
    "\n",
    "Benchmark = ['SPX500USD']\n",
    "Factors_Interested = ['WTICOUSD', 'SPX500USD', 'GBPUSD', 'USB02YUSD']\n",
    "\n",
    "Portfolio.run(Graphic = True, Factors = Factors_Interested, Benchmark= Benchmark)\n",
    "print(time.time() - Begining, ' seconds to complete')"
   ]
  },
  {
   "cell_type": "code",
   "execution_count": null,
   "metadata": {
    "scrolled": true
   },
   "outputs": [],
   "source": [
    "%pylab qt\n",
    "Portfolio.Risk_Demos()"
   ]
  },
  {
   "cell_type": "code",
   "execution_count": null,
   "metadata": {
    "scrolled": true
   },
   "outputs": [],
   "source": [
    "Portfolio.Performance_Demos()"
   ]
  },
  {
   "cell_type": "code",
   "execution_count": null,
   "metadata": {
    "scrolled": true
   },
   "outputs": [],
   "source": []
  },
  {
   "cell_type": "code",
   "execution_count": null,
   "metadata": {
    "scrolled": true
   },
   "outputs": [],
   "source": []
  },
  {
   "cell_type": "markdown",
   "metadata": {},
   "source": [
    "# Risk_Advisor and Performance_Advisor"
   ]
  },
  {
   "cell_type": "markdown",
   "metadata": {},
   "source": [
    "### Same old Risk and Performance Advisors we are familiar with, they are incorporated in the Back_Testor but of course both can be used separately to still give all the metrics. since they can cope with static information as well, they are connected to the Performance Advisor too"
   ]
  },
  {
   "cell_type": "code",
   "execution_count": null,
   "metadata": {
    "scrolled": true
   },
   "outputs": [],
   "source": [
    "Time = '2019-01-02'\n",
    "frequency = 'Daily'\n",
    "example_holding = Portfolio.Holdings.loc[pd.to_datetime(Time)].to_dict()\n",
    "print(example_holding)"
   ]
  },
  {
   "cell_type": "code",
   "execution_count": null,
   "metadata": {},
   "outputs": [],
   "source": [
    "%run Risk_Analytics_App.py\n",
    "My_Advisor = Risk_Advisor(Graphic= True)"
   ]
  },
  {
   "cell_type": "code",
   "execution_count": null,
   "metadata": {
    "scrolled": true
   },
   "outputs": [],
   "source": [
    "My_Advisor.Risk_Contribution()"
   ]
  },
  {
   "cell_type": "code",
   "execution_count": null,
   "metadata": {},
   "outputs": [],
   "source": []
  },
  {
   "cell_type": "markdown",
   "metadata": {},
   "source": [
    "# Live_Trading Assistant"
   ]
  },
  {
   "cell_type": "markdown",
   "metadata": {},
   "source": [
    "### Live Assistant take the task of communicating with the MT4 platform, 1. constantly requesting current portfolio holding and use Risk/ Performance Advisor to assess the current holding. 2. constantly pooling live-stream price info and connects with the signal generator to get trading signal. 3. Execute the order if signal appears"
   ]
  },
  {
   "cell_type": "code",
   "execution_count": null,
   "metadata": {},
   "outputs": [],
   "source": [
    "import warnings\n",
    "#warnings.simplefilter('ignore')\n",
    "%run Live_Trading_App.py\n",
    "Trader_Advisor = Live_Trade_App(Update_Frequency = 10, _Time_Out = 3, _Refresh= 1)"
   ]
  },
  {
   "cell_type": "code",
   "execution_count": null,
   "metadata": {
    "scrolled": false
   },
   "outputs": [],
   "source": [
    "#%pylab qt\n",
    "Trader_Advisor.Run()"
   ]
  },
  {
   "cell_type": "code",
   "execution_count": null,
   "metadata": {
    "scrolled": false
   },
   "outputs": [],
   "source": [
    "Trader_Advisor._Close_Market()"
   ]
  },
  {
   "cell_type": "code",
   "execution_count": null,
   "metadata": {
    "scrolled": true
   },
   "outputs": [],
   "source": [
    "Trader_Advisor._Holding_Port._DWX_MTX_GET_ALL_OPEN_TRADES_()"
   ]
  },
  {
   "cell_type": "code",
   "execution_count": null,
   "metadata": {
    "scrolled": true
   },
   "outputs": [],
   "source": [
    "Trader_Advisor._Holding_Port._get_response_()"
   ]
  },
  {
   "cell_type": "code",
   "execution_count": null,
   "metadata": {
    "scrolled": true
   },
   "outputs": [],
   "source": [
    "Trader_Advisor._Asset_Watchlist"
   ]
  },
  {
   "cell_type": "code",
   "execution_count": 3,
   "metadata": {},
   "outputs": [],
   "source": [
    "from DWX_ZeroMQ_Connector_v2_0_1_RC8 import DWX_ZeroMQ_Connector\n",
    "Connect = DWX_ZeroMQ_Connector()\n",
    "Connect._DWX_MTX_GET_ALL_OPEN_TRADES_()"
   ]
  },
  {
   "cell_type": "code",
   "execution_count": null,
   "metadata": {},
   "outputs": [],
   "source": []
  }
 ],
 "metadata": {
  "kernelspec": {
   "display_name": "Python 3",
   "language": "python",
   "name": "python3"
  },
  "language_info": {
   "codemirror_mode": {
    "name": "ipython",
    "version": 3
   },
   "file_extension": ".py",
   "mimetype": "text/x-python",
   "name": "python",
   "nbconvert_exporter": "python",
   "pygments_lexer": "ipython3",
   "version": "3.7.3"
  }
 },
 "nbformat": 4,
 "nbformat_minor": 2
}
