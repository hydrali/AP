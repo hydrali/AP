{
 "cells": [
  {
   "cell_type": "markdown",
   "metadata": {},
   "source": [
    "## A rough demonstration of how to turn hst files into pandas dataframe"
   ]
  },
  {
   "cell_type": "code",
   "execution_count": 1,
   "metadata": {},
   "outputs": [
    {
     "name": "stdout",
     "output_type": "stream",
     "text": [
      "C:\\Users\\Hli\\Desktop\\MT45_demo\\DarwinexLabs-master\\tools\\Python\n"
     ]
    }
   ],
   "source": [
    "import pandas as pd\n",
    "import os \n",
    "path = os.getcwd()\n",
    "\n",
    "%cd C:\\Users\\Hli\\Desktop\\MT45_demo\\DarwinexLabs-master\\tools\\Python\n",
    "from MetaTrader_Helpers.Data_Processing.DWX_HISTORY_IO_v2_0_1_RC8 import DWX_MT_HISTORY_IO\n",
    "_mt = DWX_MT_HISTORY_IO()"
   ]
  },
  {
   "cell_type": "code",
   "execution_count": 2,
   "metadata": {
    "scrolled": true
   },
   "outputs": [],
   "source": [
    "Data_Directory = r'C:\\Users\\Hli\\AppData\\Roaming\\MetaQuotes\\Terminal\\3212703ED955F10C7534BE8497B221F4\\history\\OANDA-v20 Live-1'\n",
    "files = []\n",
    "# r=root, d=directories, f = files\n",
    "for r, d, f in os.walk(Data_Directory):\n",
    "    for file in f:\n",
    "        if '.hst' in file:\n",
    "            files.append(file)\n",
    "Cleaned = []        \n",
    "for file in files:\n",
    "    Cleaned.append(file[:-4])"
   ]
  },
  {
   "cell_type": "code",
   "execution_count": 3,
   "metadata": {},
   "outputs": [],
   "source": [
    "Datas = {}\n",
    "f_ite = 0\n",
    "a_ite = 0\n",
    "for file in Cleaned:\n",
    "    for i in range(1,7):\n",
    "        try:\n",
    "            frequency = int(file[-i:])\n",
    "            f_ite = frequency\n",
    "            a_ite = file[:-i]\n",
    "        except:\n",
    "            if f_ite in Datas:\n",
    "                Datas[f_ite].append(a_ite)\n",
    "            else:\n",
    "                Datas[f_ite] = [a_ite]\n",
    "            break"
   ]
  },
  {
   "cell_type": "code",
   "execution_count": 4,
   "metadata": {
    "scrolled": true
   },
   "outputs": [],
   "source": [
    "os.chdir(path)\n",
    "for Frequency in list(Datas.keys()):\n",
    "    Assets = Datas[Frequency]\n",
    "    Historical = pd.DataFrame()\n",
    "    for asset in Assets:\n",
    "        temp = _mt._run_(_symbol= asset, _timeframe= Frequency)\n",
    "        temp['Asset'] = asset\n",
    "        Historical = pd.concat([Historical, temp])\n",
    "    Historical = Historical.set_index([Historical.index, 'Asset'])\n",
    "    Historical = Historical.sort_index(level = 0)\n",
    "#    file_name = str(Frequency) + '_Minutes_Data'\n",
    "#    A small exercise here for you, can you then use the DB_Operator class to create a database from \n",
    "#    these pandas dataframes?"
   ]
  },
  {
   "cell_type": "code",
   "execution_count": 5,
   "metadata": {
    "scrolled": true
   },
   "outputs": [],
   "source": [
    "Temporary_DB = _mt._run_(_symbol= 'SPX500USD', _timeframe= 1440)\n",
    "Temporary_DB"
   ]
  },
  {
   "cell_type": "code",
   "execution_count": null,
   "metadata": {
    "scrolled": true
   },
   "outputs": [],
   "source": []
  },
  {
   "cell_type": "code",
   "execution_count": null,
   "metadata": {},
   "outputs": [],
   "source": []
  },
  {
   "cell_type": "code",
   "execution_count": null,
   "metadata": {
    "scrolled": true
   },
   "outputs": [],
   "source": []
  },
  {
   "cell_type": "code",
   "execution_count": null,
   "metadata": {},
   "outputs": [],
   "source": []
  },
  {
   "cell_type": "code",
   "execution_count": null,
   "metadata": {},
   "outputs": [],
   "source": []
  }
 ],
 "metadata": {
  "kernelspec": {
   "display_name": "Python 3",
   "language": "python",
   "name": "python3"
  },
  "language_info": {
   "codemirror_mode": {
    "name": "ipython",
    "version": 3
   },
   "file_extension": ".py",
   "mimetype": "text/x-python",
   "name": "python",
   "nbconvert_exporter": "python",
   "pygments_lexer": "ipython3",
   "version": "3.7.3"
  }
 },
 "nbformat": 4,
 "nbformat_minor": 2
}
