{
 "cells": [
  {
   "cell_type": "code",
   "execution_count": null,
   "metadata": {},
   "outputs": [],
   "source": [
    "import warnings\n",
    "import time\n",
    "warnings.simplefilter('ignore')"
   ]
  },
  {
   "cell_type": "code",
   "execution_count": null,
   "metadata": {},
   "outputs": [],
   "source": []
  },
  {
   "cell_type": "markdown",
   "metadata": {},
   "source": [
    "# Price DB"
   ]
  },
  {
   "cell_type": "code",
   "execution_count": null,
   "metadata": {},
   "outputs": [],
   "source": [
    "import os\n",
    "import pandas as pd\n",
    "import numpy as np\n",
    "%run Database_Interactions.py\n",
    "DB_Worker = DB_Operator('MT4_Database')            "
   ]
  },
  {
   "cell_type": "markdown",
   "metadata": {},
   "source": [
    "path = os.getcwd()\n",
    "files = []\n",
    "for r, d, f in os.walk(path):\n",
    "    for file in f:\n",
    "        if '.csv' in file:\n",
    "            files.append(file)\n",
    "for doc in files:\n",
    "    temp = pd.read_csv(doc)\n",
    "    temp = temp.set_index('open_time')\n",
    "    DB_Worker.DF_to_new_table(temp, doc[:-9])"
   ]
  },
  {
   "cell_type": "code",
   "execution_count": null,
   "metadata": {},
   "outputs": [],
   "source": [
    "Frequencies = ['Minutely', 'Minutes_5', 'Minutes_15', 'Minutes_30', 'Hourly', 'Hours_4', 'Daily' , 'Weekly']"
   ]
  },
  {
   "cell_type": "markdown",
   "metadata": {},
   "source": [
    "### Data Integrity Check"
   ]
  },
  {
   "cell_type": "code",
   "execution_count": null,
   "metadata": {
    "scrolled": true
   },
   "outputs": [],
   "source": [
    "All_Summary = {}\n",
    "All_Missing = {}\n",
    "for frequency in Frequencies:\n",
    "    Freq_Table = DB_Worker.read_entire_table(frequency)\n",
    "    Freq_Table = Freq_Table.set_index(pd.to_datetime(Freq_Table['open_time'])).drop('open_time', axis = 1).sort_index()\n",
    "    Asset_List = pd.unique(Freq_Table['Asset'])\n",
    "    Freq_Table = Freq_Table.set_index([Freq_Table.index, 'Asset']).sort_index().unstack(level = 1)\n",
    "    Full_Time = np.array(list(Freq_Table.index))\n",
    "    Data_Summary = {}\n",
    "    Missing_Day_Record = {}\n",
    "    for items in Asset_List:\n",
    "        temp = Freq_Table.xs(items, axis = 1, level = 1).dropna()\n",
    "        start = pd.to_datetime(temp.index[0])\n",
    "        end = pd.to_datetime(temp.index[-1])\n",
    "        Complete_Betweens = Full_Time[np.where((Full_Time >= start) & (Full_Time <= end))]\n",
    "        Item_Betweens = np.array(list(temp.index))\n",
    "        if Complete_Betweens.shape[0] < Item_Betweens.shape[0]:\n",
    "            print('Check here something is wrong, ', items)\n",
    "        else:\n",
    "            Missing = np.setdiff1d(Complete_Betweens, Item_Betweens)\n",
    "        local_rec = {}\n",
    "        local_rec['start'] = str(start)\n",
    "        local_rec['end'] = str(end)\n",
    "        local_rec['rec_exist'] = Item_Betweens.shape[0]\n",
    "        local_rec['rec_missing'] = Missing.shape[0]\n",
    "        Data_Summary[items] = local_rec\n",
    "        Missing_Day_Record[items] = Missing\n",
    "    \n",
    "    All_Summary[frequency] = Data_Summary\n",
    "    All_Missing[frequency] = Missing_Day_Record\n",
    "    \n",
    "DB_Worker.disconnect()"
   ]
  },
  {
   "cell_type": "code",
   "execution_count": null,
   "metadata": {
    "scrolled": true
   },
   "outputs": [],
   "source": [
    "All = pd.DataFrame()\n",
    "order = ['start', 'end', 'rec_exist', 'rec_missing']\n",
    "for items in All_Summary:\n",
    "    temp = pd.DataFrame.from_dict(All_Summary[items]).transpose()\n",
    "    temp['frequency'] = items\n",
    "    All = pd.concat([All, temp])\n",
    "All = All.set_index([All.index, 'frequency'])[order].sort_index()\n",
    "All.to_csv('Data_Integrity.csv')\n",
    "np.save('missing.npy', All_Missing)"
   ]
  },
  {
   "cell_type": "code",
   "execution_count": null,
   "metadata": {
    "scrolled": true
   },
   "outputs": [],
   "source": [
    "Blahblah = np.load('missing.npy', allow_pickle= True)\n",
    "Dict = Blahblah[()]\n",
    "Dict.keys()"
   ]
  },
  {
   "cell_type": "code",
   "execution_count": null,
   "metadata": {},
   "outputs": [],
   "source": []
  },
  {
   "cell_type": "markdown",
   "metadata": {},
   "source": [
    "# Signal Pool"
   ]
  },
  {
   "cell_type": "code",
   "execution_count": null,
   "metadata": {
    "scrolled": true
   },
   "outputs": [],
   "source": [
    "import pandas as pd\n",
    "import matplotlib.pyplot as plt\n",
    "import time\n",
    "\n",
    "%run Database_Interactions.py\n",
    "DB_Worker = DB_Operator('MT4_Database')\n",
    "Signal_Worker = DB_Operator('Signal_DB')"
   ]
  },
  {
   "cell_type": "code",
   "execution_count": null,
   "metadata": {},
   "outputs": [],
   "source": [
    "Frequencies = ['Minutely', 'Minutes_5', 'Minutes_15', 'Minutes_30', 'Hourly', 'Hours_4', 'Daily' , 'Weekly']\n",
    "Refit = {'Minutely': 500, 'Minutes_5': 100, 'Minutes_15': 160, 'Minutes_30': 80, \n",
    "         'Hourly': 80, 'Hours_4': 80, 'Daily': 30, 'Weekly': 20}"
   ]
  },
  {
   "cell_type": "code",
   "execution_count": null,
   "metadata": {
    "scrolled": true
   },
   "outputs": [],
   "source": [
    "%run Signal_Pool.py\n",
    "for frequency in Frequencies:\n",
    "    print(frequency)\n",
    "    Collection = pd.DataFrame()\n",
    "    All = DB_Worker.read_entire_table(frequency)\n",
    "    Assets = pd.unique(All['Asset'])\n",
    "    All = All.set_index(pd.to_datetime(All['open_time'])).drop('open_time', axis = 1)\n",
    "    for asset in Assets:\n",
    "        print(asset)\n",
    "        DataFrame = All[All['Asset'] == asset]\n",
    "        Signal_Advisor = Generate_Signal(DataFrame)\n",
    "        Signal = Signal_Advisor.Generate_All_Signals(All, Refit[frequency])\n",
    "        Signal['Asset'] = asset\n",
    "        Collection = pd.concat([Collection, Signal])\n",
    "    Signal_Worker.DF_to_new_table(Collection, frequency)"
   ]
  },
  {
   "cell_type": "code",
   "execution_count": null,
   "metadata": {
    "scrolled": true
   },
   "outputs": [],
   "source": []
  },
  {
   "cell_type": "code",
   "execution_count": null,
   "metadata": {},
   "outputs": [],
   "source": []
  },
  {
   "cell_type": "markdown",
   "metadata": {},
   "source": [
    "# Backtesting"
   ]
  },
  {
   "cell_type": "code",
   "execution_count": null,
   "metadata": {
    "scrolled": true
   },
   "outputs": [],
   "source": [
    "Begining = time.time()\n",
    "%run Back_Testor.py\n",
    "Assets = ['BCOUSD', 'SPX500USD']\n",
    "Frequency = 'Hours_4'\n",
    "start = None\n",
    "end = None\n",
    "Signal_use = ['MACD', 'RSI']\n",
    "Portfolio = Backtestor(Assets, Frequency, start= start, end= end, Signal_use = Signal_use)\n",
    "Portfolio.Set_Risk_Cap(Value_Cap = 100, Indiv_Value_Cap = 20, Volatility_Cap = 10, Indiv_Vol_Cap = 3)\n",
    "Portfolio.run()\n",
    "print(time.time() - Begining)"
   ]
  },
  {
   "cell_type": "code",
   "execution_count": null,
   "metadata": {
    "scrolled": true
   },
   "outputs": [],
   "source": [
    "%pylab qt\n",
    "Portfolio.Plot_Trades()"
   ]
  },
  {
   "cell_type": "code",
   "execution_count": null,
   "metadata": {},
   "outputs": [],
   "source": [
    "Portfolio.Holdings.columns.name = 'Asset'\n",
    "temp = pd.DataFrame(Portfolio.Holdings.stack())\n",
    "temp.columns = ['Amount']\n",
    "Holding = temp[temp['Amount']!=0]\n",
    "Hist = Holding.reset_index(level = 1).loc['2018':'2019']\n",
    "%run Database_Interactions.py\n",
    "DB_Worker = DB_Operator('MT4_Database')\n",
    "DB_Worker.DF_to_new_table(Hist, 'Historical_Holdings')"
   ]
  },
  {
   "cell_type": "code",
   "execution_count": null,
   "metadata": {},
   "outputs": [],
   "source": [
    "Features = ['SPX500USD', 'BCOUSD']\n",
    "%run Performance_Analytic_App.py\n",
    "My_Advisor = Performance_Advisor(Feature_Concern = Features, Frequency_Using= 'Hours_4')\n",
    "My_Advisor.Holding.drop('Cash', axis = 0, level = 1).shape"
   ]
  },
  {
   "cell_type": "code",
   "execution_count": null,
   "metadata": {},
   "outputs": [],
   "source": []
  },
  {
   "cell_type": "code",
   "execution_count": null,
   "metadata": {
    "scrolled": true
   },
   "outputs": [],
   "source": []
  },
  {
   "cell_type": "markdown",
   "metadata": {
    "scrolled": true
   },
   "source": [
    "# Live_Trading"
   ]
  },
  {
   "cell_type": "code",
   "execution_count": 11,
   "metadata": {},
   "outputs": [
    {
     "name": "stdout",
     "output_type": "stream",
     "text": [
      "[INIT] Ready to send commands to METATRADER (PUSH): 32768\n",
      "[INIT] Listening for responses from METATRADER (PULL): 32769\n",
      "[INIT] Listening for market data from METATRADER (SUB): 32770\n",
      "Hear Back Success\n"
     ]
    },
    {
     "data": {
      "text/html": [
       "<div>\n",
       "<style scoped>\n",
       "    .dataframe tbody tr th:only-of-type {\n",
       "        vertical-align: middle;\n",
       "    }\n",
       "\n",
       "    .dataframe tbody tr th {\n",
       "        vertical-align: top;\n",
       "    }\n",
       "\n",
       "    .dataframe thead th {\n",
       "        text-align: right;\n",
       "    }\n",
       "</style>\n",
       "<table border=\"1\" class=\"dataframe\">\n",
       "  <thead>\n",
       "    <tr style=\"text-align: right;\">\n",
       "      <th></th>\n",
       "      <th>_SL</th>\n",
       "      <th>_TP</th>\n",
       "      <th>_comment</th>\n",
       "      <th>_lots</th>\n",
       "      <th>_magic</th>\n",
       "      <th>_open_price</th>\n",
       "      <th>_open_time</th>\n",
       "      <th>_pnl</th>\n",
       "      <th>_symbol</th>\n",
       "      <th>_type</th>\n",
       "    </tr>\n",
       "  </thead>\n",
       "  <tbody>\n",
       "    <tr>\n",
       "      <th>99391923</th>\n",
       "      <td>1.11238</td>\n",
       "      <td>1.12238</td>\n",
       "      <td>dwx-zeromq</td>\n",
       "      <td>0.01</td>\n",
       "      <td>123456</td>\n",
       "      <td>1.11738</td>\n",
       "      <td>2019.08.14 04:55:01</td>\n",
       "      <td>-2.56</td>\n",
       "      <td>EURUSD</td>\n",
       "      <td>0</td>\n",
       "    </tr>\n",
       "  </tbody>\n",
       "</table>\n",
       "</div>"
      ],
      "text/plain": [
       "              _SL      _TP    _comment _lots  _magic _open_price  \\\n",
       "99391923  1.11238  1.12238  dwx-zeromq  0.01  123456     1.11738   \n",
       "\n",
       "                   _open_time  _pnl _symbol _type  \n",
       "99391923  2019.08.14 04:55:01 -2.56  EURUSD     0  "
      ]
     },
     "execution_count": 11,
     "metadata": {},
     "output_type": "execute_result"
    }
   ],
   "source": [
    "%run Live_Trading_App.py\n",
    "Trader_Advisor = Live_Trade_App(Update_Frequency = 2)\n",
    "Trader_Advisor.Current_Holding()"
   ]
  },
  {
   "cell_type": "code",
   "execution_count": 12,
   "metadata": {
    "scrolled": true
   },
   "outputs": [
    {
     "name": "stdout",
     "output_type": "stream",
     "text": [
      "Starting to Record Price ... \n",
      "[INIT] Ready to send commands to METATRADER (PUSH): 32768\n",
      "[INIT] Listening for responses from METATRADER (PULL): 32769\n",
      "[INIT] Listening for market data from METATRADER (SUB): 32555\n",
      "[KERNEL] Subscribed to GBPUSD BID/ASK updates. See self._Market_Data_DB.\n",
      "Index(['GBPUSD'], dtype='object')\n",
      "Index(['GBPUSD'], dtype='object')\n"
     ]
    }
   ],
   "source": [
    "Trader_Advisor._Snapshots(2)"
   ]
  },
  {
   "cell_type": "code",
   "execution_count": 13,
   "metadata": {
    "scrolled": true
   },
   "outputs": [
    {
     "data": {
      "text/html": [
       "<div>\n",
       "<style scoped>\n",
       "    .dataframe tbody tr th:only-of-type {\n",
       "        vertical-align: middle;\n",
       "    }\n",
       "\n",
       "    .dataframe tbody tr th {\n",
       "        vertical-align: top;\n",
       "    }\n",
       "\n",
       "    .dataframe thead th {\n",
       "        text-align: right;\n",
       "    }\n",
       "</style>\n",
       "<table border=\"1\" class=\"dataframe\">\n",
       "  <thead>\n",
       "    <tr style=\"text-align: right;\">\n",
       "      <th></th>\n",
       "      <th>Bid</th>\n",
       "      <th>Ask</th>\n",
       "    </tr>\n",
       "  </thead>\n",
       "  <tbody>\n",
       "    <tr>\n",
       "      <th>2019-08-15 03:04:06</th>\n",
       "      <td>1.20539</td>\n",
       "      <td>1.20559</td>\n",
       "    </tr>\n",
       "    <tr>\n",
       "      <th>2019-08-15 03:04:07</th>\n",
       "      <td>1.20542</td>\n",
       "      <td>1.20561</td>\n",
       "    </tr>\n",
       "    <tr>\n",
       "      <th>2019-08-15 03:04:07</th>\n",
       "      <td>1.20542</td>\n",
       "      <td>1.20561</td>\n",
       "    </tr>\n",
       "    <tr>\n",
       "      <th>2019-08-15 03:04:08</th>\n",
       "      <td>1.20542</td>\n",
       "      <td>1.20561</td>\n",
       "    </tr>\n",
       "    <tr>\n",
       "      <th>2019-08-15 03:04:09</th>\n",
       "      <td>1.20542</td>\n",
       "      <td>1.20561</td>\n",
       "    </tr>\n",
       "    <tr>\n",
       "      <th>2019-08-15 03:04:10</th>\n",
       "      <td>1.20542</td>\n",
       "      <td>1.20561</td>\n",
       "    </tr>\n",
       "  </tbody>\n",
       "</table>\n",
       "</div>"
      ],
      "text/plain": [
       "                         Bid      Ask\n",
       "2019-08-15 03:04:06  1.20539  1.20559\n",
       "2019-08-15 03:04:07  1.20542  1.20561\n",
       "2019-08-15 03:04:07  1.20542  1.20561\n",
       "2019-08-15 03:04:08  1.20542  1.20561\n",
       "2019-08-15 03:04:09  1.20542  1.20561\n",
       "2019-08-15 03:04:10  1.20542  1.20561"
      ]
     },
     "execution_count": 13,
     "metadata": {},
     "output_type": "execute_result"
    }
   ],
   "source": [
    "Trader_Advisor.Print_Price_Buffer()"
   ]
  },
  {
   "cell_type": "code",
   "execution_count": null,
   "metadata": {},
   "outputs": [],
   "source": [
    "%run DWX_ZeroMQ_Connector_v2_0_1_RC8.py\n",
    "GBP_Port = DWX_ZeroMQ_Connector(_verbose = False, _SUB_PORT = 32555)\n",
    "EUR_Port = DWX_ZeroMQ_Connector(_verbose = False, _SUB_PORT = 32555)"
   ]
  },
  {
   "cell_type": "code",
   "execution_count": null,
   "metadata": {
    "scrolled": true
   },
   "outputs": [],
   "source": [
    "GBP_Port._DWX_MTX_SUBSCRIBE_MARKETDATA_('GBPUSD')\n",
    "EUR_Port._DWX_MTX_SUBSCRIBE_MARKETDATA_('EURUSD')"
   ]
  },
  {
   "cell_type": "code",
   "execution_count": null,
   "metadata": {
    "scrolled": true
   },
   "outputs": [],
   "source": []
  },
  {
   "cell_type": "code",
   "execution_count": null,
   "metadata": {
    "scrolled": true
   },
   "outputs": [],
   "source": []
  },
  {
   "cell_type": "code",
   "execution_count": null,
   "metadata": {},
   "outputs": [],
   "source": []
  },
  {
   "cell_type": "code",
   "execution_count": null,
   "metadata": {},
   "outputs": [],
   "source": []
  },
  {
   "cell_type": "code",
   "execution_count": null,
   "metadata": {},
   "outputs": [],
   "source": []
  },
  {
   "cell_type": "code",
   "execution_count": null,
   "metadata": {},
   "outputs": [],
   "source": []
  },
  {
   "cell_type": "code",
   "execution_count": null,
   "metadata": {},
   "outputs": [],
   "source": []
  },
  {
   "cell_type": "code",
   "execution_count": null,
   "metadata": {},
   "outputs": [],
   "source": []
  },
  {
   "cell_type": "code",
   "execution_count": null,
   "metadata": {},
   "outputs": [],
   "source": []
  }
 ],
 "metadata": {
  "kernelspec": {
   "display_name": "Python 3",
   "language": "python",
   "name": "python3"
  },
  "language_info": {
   "codemirror_mode": {
    "name": "ipython",
    "version": 3
   },
   "file_extension": ".py",
   "mimetype": "text/x-python",
   "name": "python",
   "nbconvert_exporter": "python",
   "pygments_lexer": "ipython3",
   "version": "3.7.3"
  }
 },
 "nbformat": 4,
 "nbformat_minor": 2
}
